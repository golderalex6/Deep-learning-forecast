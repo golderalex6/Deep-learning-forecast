{
 "cells": [
  {
   "cell_type": "code",
   "execution_count": 1,
   "metadata": {},
   "outputs": [
    {
     "name": "stderr",
     "output_type": "stream",
     "text": [
      "2024-10-22 07:55:48.931040: E external/local_xla/xla/stream_executor/cuda/cuda_fft.cc:485] Unable to register cuFFT factory: Attempting to register factory for plugin cuFFT when one has already been registered\n",
      "2024-10-22 07:55:48.942177: E external/local_xla/xla/stream_executor/cuda/cuda_dnn.cc:8454] Unable to register cuDNN factory: Attempting to register factory for plugin cuDNN when one has already been registered\n",
      "2024-10-22 07:55:48.945640: E external/local_xla/xla/stream_executor/cuda/cuda_blas.cc:1452] Unable to register cuBLAS factory: Attempting to register factory for plugin cuBLAS when one has already been registered\n",
      "2024-10-22 07:55:48.954308: I tensorflow/core/platform/cpu_feature_guard.cc:210] This TensorFlow binary is optimized to use available CPU instructions in performance-critical operations.\n",
      "To enable the following instructions: AVX2 FMA, in other operations, rebuild TensorFlow with the appropriate compiler flags.\n",
      "2024-10-22 07:55:49.626773: W tensorflow/compiler/tf2tensorrt/utils/py_utils.cc:38] TF-TRT Warning: Could not find TensorRT\n",
      "2024-10-22 07:55:50.998196: E external/local_xla/xla/stream_executor/cuda/cuda_driver.cc:266] failed call to cuInit: CUDA_ERROR_NO_DEVICE: no CUDA-capable device is detected\n"
     ]
    }
   ],
   "source": [
    "from functional import *\n",
    "from rnn_forecast import timeseries_rnn\n",
    "from lstm_forecast import timeseries_lstm\n",
    "from transformer_forecast import timeseries_transformer\n",
    "from gru_forecast import timeseries_gru\n",
    "from resnet_forecast import timeseries_resnet\n",
    "from tcn_forecast import timeseries_tcn\n",
    "from sklearn.metrics import mean_absolute_error,mean_absolute_percentage_error,r2_score"
   ]
  },
  {
   "cell_type": "code",
   "execution_count": 2,
   "metadata": {},
   "outputs": [],
   "source": [
    "class evaluate_compare(funtional):\n",
    "    def __init__(self):\n",
    "        super().__init__()\n",
    "        # self.rnn=timeseries_rnn().build()\n",
    "        # self.rnn.load_weights(os.path.join(Path().cwd(),f'models/rnn_{self.price_type}_{self.symbol}_{self.timeframe}.weights.h5'))\n",
    "\n",
    "        # self.lstm=timeseries_lstm().build()\n",
    "        # self.lstm.load_weights(os.path.join(Path().cwd(),f'models/lstm_{self.price_type}_{self.symbol}_{self.timeframe}.weights.h5'))\n",
    "\n",
    "        self.transformer=timeseries_transformer().build()\n",
    "        self.transformer.load_weights(os.path.join(Path().cwd(),f'models/transformer_{self.price_type}_{self.symbol}_{self.timeframe}.weights.h5'))\n",
    "\n",
    "        self.gru=timeseries_gru().build()\n",
    "        self.gru.load_weights(os.path.join(Path().cwd(),f'models/gru_{self.price_type}_{self.symbol}_{self.timeframe}.weights.h5'))\n",
    "\n",
    "        self.resnet=timeseries_resnet().build()\n",
    "        self.resnet.load_weights(os.path.join(Path().cwd(),f'models/resnet_{self.price_type}_{self.symbol}_{self.timeframe}.weights.h5'))\n",
    "\n",
    "        self.tcn=timeseries_tcn().build()\n",
    "        self.tcn.load_weights(os.path.join(Path().cwd(),f'models/tcn_{self.price_type}_{self.symbol}_{self.timeframe}.weights.h5'))\n",
    "\n",
    "        self.model_selection={'transformer':self.transformer,'gru':self.gru,'resnet':self.resnet,'tcn':self.tcn}\n",
    "\n",
    "    def sape(self,true_value,predict_value):\n",
    "        average_volatility=pd.Series(true_value).pct_change().abs().mean()\n",
    "        mape=mean_absolute_percentage_error(true_value,predict_value)\n",
    "        scaled_perentage_error=mape/average_volatility\n",
    "        return scaled_perentage_error\n",
    "    \n",
    "    def get_predict(self):\n",
    "        price=self.df[self.price_type].iloc[-self.seq_length:]\n",
    "        last_value=self.df[self.price_type].iloc[-self.seq_length:].to_numpy()[np.newaxis,...]\n",
    "        return price,pd.Series([self.transformer.predict(last_value)[0,0],self.gru.predict(last_value)[0,0],self.resnet.predict(last_value)[0,0],self.tcn.predict(last_value)[0,0]],index=['Transformer','GRU','RESNET','TCN'])\n",
    "        # self.draw=pd.DataFrame({\n",
    "        #     'True values':self.y,\n",
    "        #     # 'RNN':self.rnn.predict(self.x).reshape(-1),\n",
    "        #     # 'LSTM':self.lstm.predict(self.x).reshape(-1),\n",
    "        #     'TRANSFORMER':self.transformer.predict(self.x).reshape(-1),\n",
    "        #     'GRU':self.gru.predict(self.x).reshape(-1),\n",
    "        #     'RESNET':self.resnet.predict(self.x).reshape(-1),\n",
    "        #     'TCN':self.tcn.predict(self.x).reshape(-1),\n",
    "        # },index=self.df.index[self.seq_length+1:])\n",
    "        return self.draw\n",
    "\n",
    "    def plot_all(self):\n",
    "        self.draw=pd.DataFrame({\n",
    "            'True values':self.y,\n",
    "            # 'RNN':self.rnn.predict(self.x).reshape(-1),\n",
    "            # 'LSTM':self.lstm.predict(self.x).reshape(-1),\n",
    "            'TRANSFORMER':self.transformer.predict(self.x).reshape(-1),\n",
    "            'GRU':self.gru.predict(self.x).reshape(-1),\n",
    "            'RESNET':self.resnet.predict(self.x).reshape(-1),\n",
    "            'TCN':self.tcn.predict(self.x).reshape(-1),\n",
    "        },index=self.df.index[self.seq_length+1:])\n",
    "        fg=plt.figure()\n",
    "        ax=fg.add_subplot()\n",
    "        self.draw.plot(ax=ax)\n",
    "        ax.legend(loc='upper right')\n",
    "        ax.set_title(f'{self.symbol} {self.price_type}')\n",
    "\n",
    "    def predict(self,true_value,predict_value):\n",
    "        self.methods={'mae':mean_absolute_error,'mape':mean_absolute_percentage_error,'sape':self.sape,'r2':r2_score}\n",
    "        metrics,method_name=[],[]\n",
    "        for name,method in self.methods.items():\n",
    "            metrics.append(method(true_value,predict_value))\n",
    "            method_name.append(name)\n",
    "        return pd.Series(metrics,index=method_name)\n",
    "\n",
    "    def compare(self):\n",
    "        compare={}\n",
    "        for name,model in self.model_selection.items():\n",
    "            model_predict=model.predict(self.x).reshape(-1)\n",
    "            compare[name]=self.predict(self.y,model_predict)\n",
    "        return pd.DataFrame(compare).T"
   ]
  },
  {
   "cell_type": "code",
   "execution_count": 3,
   "metadata": {},
   "outputs": [],
   "source": [
    "evaluate=evaluate_compare()"
   ]
  },
  {
   "cell_type": "code",
   "execution_count": 4,
   "metadata": {},
   "outputs": [
    {
     "name": "stdout",
     "output_type": "stream",
     "text": [
      "\u001b[1m1/1\u001b[0m \u001b[32m━━━━━━━━━━━━━━━━━━━━\u001b[0m\u001b[37m\u001b[0m \u001b[1m0s\u001b[0m 129ms/step\n",
      "\u001b[1m1/1\u001b[0m \u001b[32m━━━━━━━━━━━━━━━━━━━━\u001b[0m\u001b[37m\u001b[0m \u001b[1m0s\u001b[0m 143ms/step\n",
      "\u001b[1m1/1\u001b[0m \u001b[32m━━━━━━━━━━━━━━━━━━━━\u001b[0m\u001b[37m\u001b[0m \u001b[1m0s\u001b[0m 147ms/step\n",
      "\u001b[1m1/1\u001b[0m \u001b[32m━━━━━━━━━━━━━━━━━━━━\u001b[0m\u001b[37m\u001b[0m \u001b[1m0s\u001b[0m 151ms/step\n"
     ]
    },
    {
     "data": {
      "text/plain": [
       "Date\n",
       "2024-09-24 05:00:00    24440.0\n",
       "2024-09-25 05:00:00    24350.0\n",
       "2024-09-26 05:00:00    24420.0\n",
       "2024-09-27 05:00:00    24430.0\n",
       "2024-09-30 05:00:00    24370.0\n",
       "2024-10-01 05:00:00    24360.0\n",
       "2024-10-02 05:00:00    24430.0\n",
       "2024-10-03 05:00:00    24520.0\n",
       "2024-10-04 05:00:00    24560.0\n",
       "2024-10-07 05:00:00    24840.0\n",
       "2024-10-08 05:00:00    24835.0\n",
       "2024-10-09 05:00:00    24830.0\n",
       "2024-10-10 05:00:00    24830.0\n",
       "2024-10-11 05:00:00    24805.0\n",
       "2024-10-14 05:00:00    24840.0\n",
       "2024-10-15 05:00:00    24925.0\n",
       "2024-10-16 05:00:00    24970.0\n",
       "2024-10-17 05:00:00    25180.0\n",
       "2024-10-18 05:00:00    25150.0\n",
       "2024-10-21 05:00:00    25285.0\n",
       "Name: price, dtype: float64"
      ]
     },
     "execution_count": 4,
     "metadata": {},
     "output_type": "execute_result"
    }
   ],
   "source": [
    "last_value,predict_next=evaluate.get_predict()\n",
    "last_value"
   ]
  },
  {
   "cell_type": "code",
   "execution_count": 5,
   "metadata": {},
   "outputs": [
    {
     "data": {
      "text/plain": [
       "Transformer    24809.580078\n",
       "GRU            24631.525391\n",
       "RESNET         24559.013672\n",
       "TCN            24317.171875\n",
       "dtype: float32"
      ]
     },
     "execution_count": 5,
     "metadata": {},
     "output_type": "execute_result"
    }
   ],
   "source": [
    "predict_next"
   ]
  }
 ],
 "metadata": {
  "kernelspec": {
   "display_name": "py_virtual",
   "language": "python",
   "name": "python3"
  },
  "language_info": {
   "codemirror_mode": {
    "name": "ipython",
    "version": 3
   },
   "file_extension": ".py",
   "mimetype": "text/x-python",
   "name": "python",
   "nbconvert_exporter": "python",
   "pygments_lexer": "ipython3",
   "version": "3.11.2"
  }
 },
 "nbformat": 4,
 "nbformat_minor": 2
}
