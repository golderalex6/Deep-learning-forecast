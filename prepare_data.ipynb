{
 "cells": [
  {
   "cell_type": "markdown",
   "metadata": {},
   "source": [
    "<h1>Prepare Data(Calculate all timeframe from 1m timeframe data)!</h1>\n",
    "<p>To calculate all available timeframes (2min, 3min, 5min, 15min, etc.) on Binance using 1-minute data, a slicing window method can be applied. By aggregating the 1-minute data into desired timeframes, you can generate higher intervals, allowing for flexible analysis of price trends and market patterns over varying timeframes.</p>"
   ]
  },
  {
   "cell_type": "code",
   "execution_count": 1,
   "metadata": {},
   "outputs": [],
   "source": [
    "import pandas as pd\n",
    "import numpy as np\n",
    "import os\n",
    "from pathlib import Path\n",
    "from numpy.lib.stride_tricks import sliding_window_view"
   ]
  },
  {
   "cell_type": "markdown",
   "metadata": {},
   "source": [
    "<h3>The 'prepare_data' class!</h3>\n",
    "<ol>\n",
    "    <li>\n",
    "        <h3>The '__init__' function:</h3>\n",
    "        Initialize a few important parameters.\n",
    "        <ul>\n",
    "            <li>'self.paths': Contains a list of all trading pairs for which data has been downloaded.</li>\n",
    "            <li>'self.timeframes' : A dict that save the window size correspond to time frame when compared to the 1 min timeframe.</li>\n",
    "        </ul>\n",
    "    </li>\n",
    "    <li>\n",
    "        <h3>The 'handle_ohlcv' function:</h3>\n",
    "        Caculate open,high,low,close,timestamp,volume,date of the candle.\n",
    "        <ul>\n",
    "            <li>The 'arr[0,0]','arr[0,1]','arr[0,2]','arr[0,3]' : Get the 'Date','Timestamp','Timeframe','Open' value.</li>\n",
    "            <li>'np.max(arr[:,4])' : for the max value on each candle ('High').</li>\n",
    "            <li>'np.min(arr[:,5])' : for the min value off the candle ('Low').</li>\n",
    "            <li>'arr[-1:6]' : The close value of the candle ('Close').</li>\n",
    "            <li>'np.sum(arr[:,7])' : Total trading volume in that timeframe.\n",
    "        </ul>\n",
    "    </li>\n",
    "    <li>\n",
    "        <h3>The 'get_timeframe' function:</h3>\n",
    "        Calculate the different timeframes of each pair.\n",
    "        <ul>\n",
    "            <li>For each trading pair,for each timeframe of that pair.</li>\n",
    "            <li>'wsize' variable : get the window size(the timeframe size compare with the 1min timeframe).</li>\n",
    "            <li>The 'sliding_window_view' function use the window with size ('wsize',8) to slide from top to bottom of the 'df' variable.After that,we'll jump a distance equal to 'wsize' (eg :3min timeframe will have consecutive time values 20:00:00 ->20:03:00 and not 20:00:00 ->20:01:00).</li>\n",
    "            <li>After sliding and jumping,we set index,timeframe and then save with csv format.</li>\n",
    "        </ul>\n",
    "    </li>\n",
    "</ol>"
   ]
  },
  {
   "cell_type": "code",
   "execution_count": 2,
   "metadata": {},
   "outputs": [],
   "source": [
    "class prepare_date():\n",
    "    def __init__(self):        \n",
    "        self.paths=os.listdir(os.path.join(Path().cwd(),'data'))\n",
    "        self.timeframes={'1m':1,'3m':3,'5m':5,'15m':15,'30m':30,'1h':60,'2h':120,'4h':240,'6h':360,'8h':480,'12h':720,'1d':1440}    \n",
    "    def handle_ohlcv(self,arr):\n",
    "        return [arr[0,0],arr[0,1],arr[0,2],arr[0,3],np.max(arr[:,4]),np.min(arr[:,5]),arr[-1,6],np.sum(arr[:,7])]\n",
    "    def get_timeframe(self):        \n",
    "        for pair in self.paths:\n",
    "            for tf in self.timeframes.keys():\n",
    "                if not os.path.exists(os.path.join(Path().cwd(),f\"data/{pair}/{pair}_{tf}.csv\")):\n",
    "                    print(pair,tf)\n",
    "                    df=pd.read_csv(os.path.join(Path().cwd(),f\"data/{pair}/{pair}_1m.csv\"))\n",
    "                    wsize=self.timeframes[tf]\n",
    "                    slide=sliding_window_view(df.values,(wsize,8)).squeeze()[::wsize]\n",
    "                    get_timeframe=np.array(list(map(self.handle_ohlcv,slide)))\n",
    "                    df=pd.DataFrame(get_timeframe,columns=['Date','Timestamp','Timeframe','Open','High','Low','Close','Volume'])\n",
    "                    df.set_index('Date',inplace=True)\n",
    "                    df.loc[:,'Timeframe']=tf\n",
    "                    df.to_csv(os.path.join(Path().cwd(),f\"data/{pair}/{pair}_{tf}.csv\"))\n"
   ]
  },
  {
   "cell_type": "code",
   "execution_count": 3,
   "metadata": {},
   "outputs": [
    {
     "name": "stdout",
     "output_type": "stream",
     "text": [
      "BNBUSDT 3m\n",
      "BNBUSDT 5m\n",
      "BNBUSDT 15m\n",
      "BNBUSDT 30m\n",
      "BNBUSDT 1h\n",
      "BNBUSDT 2h\n",
      "BNBUSDT 4h\n",
      "BNBUSDT 6h\n",
      "BNBUSDT 8h\n",
      "BNBUSDT 12h\n",
      "BNBUSDT 1d\n",
      "ETHUSDT 3m\n",
      "ETHUSDT 5m\n",
      "ETHUSDT 15m\n",
      "ETHUSDT 30m\n",
      "ETHUSDT 1h\n",
      "ETHUSDT 2h\n",
      "ETHUSDT 4h\n",
      "ETHUSDT 6h\n",
      "ETHUSDT 8h\n",
      "ETHUSDT 12h\n",
      "ETHUSDT 1d\n",
      "BTCUSDT 3m\n",
      "BTCUSDT 5m\n",
      "BTCUSDT 15m\n",
      "BTCUSDT 30m\n",
      "BTCUSDT 1h\n",
      "BTCUSDT 2h\n",
      "BTCUSDT 4h\n",
      "BTCUSDT 6h\n",
      "BTCUSDT 8h\n",
      "BTCUSDT 12h\n",
      "BTCUSDT 1d\n"
     ]
    }
   ],
   "source": [
    "prepare=prepare_date()\n",
    "prepare.get_timeframe()"
   ]
  }
 ],
 "metadata": {
  "kernelspec": {
   "display_name": "py_virtual",
   "language": "python",
   "name": "python3"
  },
  "language_info": {
   "codemirror_mode": {
    "name": "ipython",
    "version": 3
   },
   "file_extension": ".py",
   "mimetype": "text/x-python",
   "name": "python",
   "nbconvert_exporter": "python",
   "pygments_lexer": "ipython3",
   "version": "3.11.2"
  }
 },
 "nbformat": 4,
 "nbformat_minor": 2
}
